{
 "cells": [
  {
   "cell_type": "markdown",
   "id": "ecfcd7ce-e43c-46a3-84d5-a52f6bee4f54",
   "metadata": {},
   "source": [
    "# Managerment Dashboard building\n",
    "1. Define business objective\n",
    "2. Data requirements for answering business goal\n",
    "3. Data collection\n",
    "4. Data understanding\n",
    "4. Data preparation\n",
    "5. Data modeling\n",
    "6. Evaluation\n",
    "7. Deployment\n",
    "8. Feedback"
   ]
  },
  {
   "cell_type": "markdown",
   "id": "63cfd106-9bf6-4154-b4a7-ec967f5e77be",
   "metadata": {
    "tags": []
   },
   "source": [
    "### Define business objective and goal\n",
    "description : \n",
    "1. Building dashboard to monitoring business performance\n",
    "2. Aquring new registration on platform"
   ]
  },
  {
   "cell_type": "markdown",
   "id": "e127c4d2-a437-429b-8858-53fec4e16892",
   "metadata": {
    "tags": []
   },
   "source": [
    "### Define data requirements for answering business goal"
   ]
  },
  {
   "cell_type": "markdown",
   "id": "696a9806-27e5-4496-87cd-fde7eb71cf11",
   "metadata": {},
   "source": [
    "- Service \n",
    "    - ICT and POST\n",
    "        - Requested Approved Date\n",
    "            - Request datetime (month)\n",
    "        - Request breakdown by Document type\n",
    "            - Permit\n",
    "            - License\n",
    "            - Certificate\n",
    "        - Request version of document\n",
    "            - New request\n",
    "            - Renewal request\n",
    "        - Request breakdown by business type\n",
    "            - ......\n",
    "        - Request breakdown by Location of request\n",
    "            - Request by City and Province\n",
    "                - Request by district in city and province"
   ]
  },
  {
   "cell_type": "markdown",
   "id": "61a664f1-7121-42c5-a335-6d5f40f1f888",
   "metadata": {},
   "source": [
    "### Data collection\n",
    "- Data avalibled in database"
   ]
  },
  {
   "cell_type": "markdown",
   "id": "96f7c83e-6489-4bb7-bc27-9ec259c552e1",
   "metadata": {},
   "source": [
    "### Data understanding"
   ]
  },
  {
   "cell_type": "code",
   "execution_count": 2,
   "id": "8d05bb68-4043-4994-835e-ec44c9e294d4",
   "metadata": {},
   "outputs": [],
   "source": [
    "# Import data munipulate libraire\n",
    "import pandas as pd"
   ]
  },
  {
   "cell_type": "code",
   "execution_count": 31,
   "id": "ac30759a-255a-43f3-88f7-4137032a1eb1",
   "metadata": {
    "tags": []
   },
   "outputs": [
    {
     "name": "stdout",
     "output_type": "stream",
     "text": [
      "<class 'pandas.core.frame.DataFrame'>\n",
      "Index: 0 entries\n",
      "Data columns (total 30 columns):\n",
      " #   Column                                                                 Non-Null Count  Dtype \n",
      "---  ------                                                                 --------------  ----- \n",
      " 0   ID Card / Passport                                                     0 non-null      object\n",
      " 1   Name (KH)                                                              0 non-null      object\n",
      " 2   Name (EN)                                                              0 non-null      object\n",
      " 3   Gender                                                                 0 non-null      object\n",
      " 4   Birth date                                                             0 non-null      object\n",
      " 5   Nationality                                                            0 non-null      object\n",
      " 6   Occupation (personal)                                                  0 non-null      object\n",
      " 7   Phone number                                                           0 non-null      object\n",
      " 8   Email                                                                  0 non-null      object\n",
      " 9   Current address (personal)                                             0 non-null      object\n",
      " 10  Position in company / business                                         0 non-null      object\n",
      " 11  Village                                                                0 non-null      object\n",
      " 12  Commut                                                                 0 non-null      object\n",
      " 13  District                                                               0 non-null      object\n",
      " 14  City / Province                                                        0 non-null      object\n",
      " 15  Unnamed: 15                                                            0 non-null      object\n",
      " 16  Company name Khmer                                                     0 non-null      object\n",
      " 17  Company name ENG                                                       0 non-null      object\n",
      " 18  លេខចុះបញ្ជីការពាណិជ្ជកម្ម                                              0 non-null      object\n",
      " 19  លេខចុះបញ្ជីការពន្ធដារ                                                  0 non-null      object\n",
      " 20  Company address                                                        0 non-null      object\n",
      " 21  សកម្មភាពក្រុមហ៊ុន                                                      0 non-null      object\n",
      " 22  Number of staff                                                        0 non-null      object\n",
      " 23  Business location (text field)                                         0 non-null      object\n",
      " 24  Unnamed: 24                                                            0 non-null      object\n",
      " 25  Date requested                                                         0 non-null      object\n",
      " 26  Type of request ប្រភេទលិខិត៖ លិខិតអនុញ្ញាត, វញ្ញិ ាបន្ប្ត, អាជាា ប័ែណ  0 non-null      object\n",
      " 27  បដើមបបី ាំបពញ្បតិបតរិការ៖ ប្មោះ្បតបិ តរិការណដលដ្ឋកប់ សើែស ាំ           0 non-null      object\n",
      " 28  Period (count from the date customer pay to check)                     0 non-null      object\n",
      " 29  Status\n",
      " បងាាញអាំពីសាថន្ភាពដាំបែើរការសបងេបរបស់ពាកយស ាំន្មី យួ ៗ         0 non-null      object\n",
      "dtypes: object(30)\n",
      "memory usage: 0.0+ bytes\n"
     ]
    },
    {
     "data": {
      "text/html": [
       "<div>\n",
       "<style scoped>\n",
       "    .dataframe tbody tr th:only-of-type {\n",
       "        vertical-align: middle;\n",
       "    }\n",
       "\n",
       "    .dataframe tbody tr th {\n",
       "        vertical-align: top;\n",
       "    }\n",
       "\n",
       "    .dataframe thead th {\n",
       "        text-align: right;\n",
       "    }\n",
       "</style>\n",
       "<table border=\"1\" class=\"dataframe\">\n",
       "  <thead>\n",
       "    <tr style=\"text-align: right;\">\n",
       "      <th></th>\n",
       "      <th>ID Card / Passport</th>\n",
       "      <th>Name (KH)</th>\n",
       "      <th>Name (EN)</th>\n",
       "      <th>Gender</th>\n",
       "      <th>Birth date</th>\n",
       "      <th>Nationality</th>\n",
       "      <th>Occupation (personal)</th>\n",
       "      <th>Phone number</th>\n",
       "      <th>Email</th>\n",
       "      <th>Current address (personal)</th>\n",
       "      <th>...</th>\n",
       "      <th>Company address</th>\n",
       "      <th>សកម្មភាពក្រុមហ៊ុន</th>\n",
       "      <th>Number of staff</th>\n",
       "      <th>Business location (text field)</th>\n",
       "      <th>Unnamed: 24</th>\n",
       "      <th>Date requested</th>\n",
       "      <th>Type of request ប្រភេទលិខិត៖ លិខិតអនុញ្ញាត, វញ្ញិ ាបន្ប្ត, អាជាា ប័ែណ</th>\n",
       "      <th>បដើមបបី ាំបពញ្បតិបតរិការ៖ ប្មោះ្បតបិ តរិការណដលដ្ឋកប់ សើែស ាំ</th>\n",
       "      <th>Period (count from the date customer pay to check)</th>\n",
       "      <th>Status\\n បងាាញអាំពីសាថន្ភាពដាំបែើរការសបងេបរបស់ពាកយស ាំន្មី យួ ៗ</th>\n",
       "    </tr>\n",
       "  </thead>\n",
       "  <tbody>\n",
       "  </tbody>\n",
       "</table>\n",
       "<p>0 rows × 30 columns</p>\n",
       "</div>"
      ],
      "text/plain": [
       "Empty DataFrame\n",
       "Columns: [ID Card / Passport, Name (KH), Name (EN), Gender, Birth date, Nationality, Occupation (personal), Phone number, Email, Current address (personal), Position in company / business, Village, Commut, District, City / Province, Unnamed: 15, Company name Khmer, Company name ENG, លេខចុះបញ្ជីការពាណិជ្ជកម្ម, លេខចុះបញ្ជីការពន្ធដារ, Company address, សកម្មភាពក្រុមហ៊ុន, Number of staff, Business location (text field), Unnamed: 24, Date requested, Type of request ប្រភេទលិខិត៖ លិខិតអនុញ្ញាត, វញ្ញិ ាបន្ប្ត, អាជាា ប័ែណ, បដើមបបី ាំបពញ្បតិបតរិការ៖ ប្មោះ្បតបិ តរិការណដលដ្ឋកប់ សើែស ាំ, Period (count from the date customer pay to check), Status\n",
       " បងាាញអាំពីសាថន្ភាពដាំបែើរការសបងេបរបស់ពាកយស ាំន្មី យួ ៗ]\n",
       "Index: []\n",
       "\n",
       "[0 rows x 30 columns]"
      ]
     },
     "execution_count": 31,
     "metadata": {},
     "output_type": "execute_result"
    }
   ],
   "source": [
    "#Read sheet1\n",
    "e_reg_sheet1 = pd.read_excel('e_registration_mockup.xlsx',sheet_name = 0)\n",
    "e_reg_sheet1.info()\n",
    "e_reg_sheet1"
   ]
  },
  {
   "cell_type": "code",
   "execution_count": 35,
   "id": "4d6ee2ee-0478-45ab-878e-85b821c0c9b2",
   "metadata": {
    "tags": []
   },
   "outputs": [
    {
     "name": "stdout",
     "output_type": "stream",
     "text": [
      "<class 'pandas.core.frame.DataFrame'>\n",
      "RangeIndex: 199 entries, 0 to 198\n",
      "Data columns (total 18 columns):\n",
      " #   Column                          Non-Null Count  Dtype \n",
      "---  ------                          --------------  ----- \n",
      " 0   No                              199 non-null    int64 \n",
      " 1   company_id                      199 non-null    int64 \n",
      " 2   company_business_type           199 non-null    object\n",
      " 3   company_location_province       199 non-null    object\n",
      " 4   business_location_text_field    199 non-null    object\n",
      " 5   company_location_district       199 non-null    object\n",
      " 6   total_certificate_ict           199 non-null    int64 \n",
      " 7   total_permit_ict                199 non-null    int64 \n",
      " 8   total_license_ict               199 non-null    int64 \n",
      " 9   total_renewal certificate_ict   199 non-null    int64 \n",
      " 10  total_renewal_permit_ict        199 non-null    int64 \n",
      " 11  total_renewal_license_ict       199 non-null    int64 \n",
      " 12  total_certificate_post          199 non-null    int64 \n",
      " 13  total_permit_post               199 non-null    int64 \n",
      " 14  total_license_post              199 non-null    int64 \n",
      " 15  total_renewal_certificate_post  199 non-null    int64 \n",
      " 16  total_renewal_permit_post       199 non-null    int64 \n",
      " 17  total_renewal_license_post      199 non-null    int64 \n",
      "dtypes: int64(14), object(4)\n",
      "memory usage: 28.1+ KB\n"
     ]
    },
    {
     "data": {
      "text/html": [
       "<div>\n",
       "<style scoped>\n",
       "    .dataframe tbody tr th:only-of-type {\n",
       "        vertical-align: middle;\n",
       "    }\n",
       "\n",
       "    .dataframe tbody tr th {\n",
       "        vertical-align: top;\n",
       "    }\n",
       "\n",
       "    .dataframe thead th {\n",
       "        text-align: right;\n",
       "    }\n",
       "</style>\n",
       "<table border=\"1\" class=\"dataframe\">\n",
       "  <thead>\n",
       "    <tr style=\"text-align: right;\">\n",
       "      <th></th>\n",
       "      <th>No</th>\n",
       "      <th>company_id</th>\n",
       "      <th>company_business_type</th>\n",
       "      <th>company_location_province</th>\n",
       "      <th>business_location_text_field</th>\n",
       "      <th>company_location_district</th>\n",
       "      <th>total_certificate_ict</th>\n",
       "      <th>total_permit_ict</th>\n",
       "      <th>total_license_ict</th>\n",
       "      <th>total_renewal certificate_ict</th>\n",
       "      <th>total_renewal_permit_ict</th>\n",
       "      <th>total_renewal_license_ict</th>\n",
       "      <th>total_certificate_post</th>\n",
       "      <th>total_permit_post</th>\n",
       "      <th>total_license_post</th>\n",
       "      <th>total_renewal_certificate_post</th>\n",
       "      <th>total_renewal_permit_post</th>\n",
       "      <th>total_renewal_license_post</th>\n",
       "    </tr>\n",
       "  </thead>\n",
       "  <tbody>\n",
       "    <tr>\n",
       "      <th>0</th>\n",
       "      <td>1</td>\n",
       "      <td>1001</td>\n",
       "      <td>Delivery</td>\n",
       "      <td>Phnom penh</td>\n",
       "      <td>test</td>\n",
       "      <td>Pursen Chey</td>\n",
       "      <td>0</td>\n",
       "      <td>0</td>\n",
       "      <td>1</td>\n",
       "      <td>2</td>\n",
       "      <td>1</td>\n",
       "      <td>1</td>\n",
       "      <td>1</td>\n",
       "      <td>0</td>\n",
       "      <td>0</td>\n",
       "      <td>1</td>\n",
       "      <td>1</td>\n",
       "      <td>3</td>\n",
       "    </tr>\n",
       "    <tr>\n",
       "      <th>1</th>\n",
       "      <td>2</td>\n",
       "      <td>1002</td>\n",
       "      <td>Network service provider</td>\n",
       "      <td>Phnom penh</td>\n",
       "      <td>test</td>\n",
       "      <td>Chamkar Morn</td>\n",
       "      <td>0</td>\n",
       "      <td>0</td>\n",
       "      <td>0</td>\n",
       "      <td>3</td>\n",
       "      <td>3</td>\n",
       "      <td>1</td>\n",
       "      <td>0</td>\n",
       "      <td>0</td>\n",
       "      <td>0</td>\n",
       "      <td>2</td>\n",
       "      <td>5</td>\n",
       "      <td>5</td>\n",
       "    </tr>\n",
       "    <tr>\n",
       "      <th>2</th>\n",
       "      <td>3</td>\n",
       "      <td>1003</td>\n",
       "      <td>Internet service provider</td>\n",
       "      <td>Siem Reap</td>\n",
       "      <td>test</td>\n",
       "      <td>Mean Chey</td>\n",
       "      <td>1</td>\n",
       "      <td>0</td>\n",
       "      <td>1</td>\n",
       "      <td>4</td>\n",
       "      <td>3</td>\n",
       "      <td>1</td>\n",
       "      <td>0</td>\n",
       "      <td>1</td>\n",
       "      <td>0</td>\n",
       "      <td>4</td>\n",
       "      <td>5</td>\n",
       "      <td>5</td>\n",
       "    </tr>\n",
       "    <tr>\n",
       "      <th>3</th>\n",
       "      <td>4</td>\n",
       "      <td>1004</td>\n",
       "      <td>security company</td>\n",
       "      <td>Kampong Thom</td>\n",
       "      <td>test</td>\n",
       "      <td>Toul Kork</td>\n",
       "      <td>1</td>\n",
       "      <td>1</td>\n",
       "      <td>0</td>\n",
       "      <td>1</td>\n",
       "      <td>2</td>\n",
       "      <td>5</td>\n",
       "      <td>1</td>\n",
       "      <td>0</td>\n",
       "      <td>1</td>\n",
       "      <td>2</td>\n",
       "      <td>1</td>\n",
       "      <td>1</td>\n",
       "    </tr>\n",
       "    <tr>\n",
       "      <th>4</th>\n",
       "      <td>5</td>\n",
       "      <td>1005</td>\n",
       "      <td>security company</td>\n",
       "      <td>Kampong Cham</td>\n",
       "      <td>test</td>\n",
       "      <td>Sen sok</td>\n",
       "      <td>0</td>\n",
       "      <td>1</td>\n",
       "      <td>1</td>\n",
       "      <td>5</td>\n",
       "      <td>1</td>\n",
       "      <td>3</td>\n",
       "      <td>1</td>\n",
       "      <td>1</td>\n",
       "      <td>0</td>\n",
       "      <td>2</td>\n",
       "      <td>5</td>\n",
       "      <td>5</td>\n",
       "    </tr>\n",
       "    <tr>\n",
       "      <th>...</th>\n",
       "      <td>...</td>\n",
       "      <td>...</td>\n",
       "      <td>...</td>\n",
       "      <td>...</td>\n",
       "      <td>...</td>\n",
       "      <td>...</td>\n",
       "      <td>...</td>\n",
       "      <td>...</td>\n",
       "      <td>...</td>\n",
       "      <td>...</td>\n",
       "      <td>...</td>\n",
       "      <td>...</td>\n",
       "      <td>...</td>\n",
       "      <td>...</td>\n",
       "      <td>...</td>\n",
       "      <td>...</td>\n",
       "      <td>...</td>\n",
       "      <td>...</td>\n",
       "    </tr>\n",
       "    <tr>\n",
       "      <th>194</th>\n",
       "      <td>195</td>\n",
       "      <td>1195</td>\n",
       "      <td>Network service provider</td>\n",
       "      <td>Banteay Meanchey</td>\n",
       "      <td>test</td>\n",
       "      <td>Malai</td>\n",
       "      <td>1</td>\n",
       "      <td>0</td>\n",
       "      <td>0</td>\n",
       "      <td>5</td>\n",
       "      <td>4</td>\n",
       "      <td>4</td>\n",
       "      <td>0</td>\n",
       "      <td>0</td>\n",
       "      <td>1</td>\n",
       "      <td>5</td>\n",
       "      <td>2</td>\n",
       "      <td>4</td>\n",
       "    </tr>\n",
       "    <tr>\n",
       "      <th>195</th>\n",
       "      <td>196</td>\n",
       "      <td>1196</td>\n",
       "      <td>Computer store</td>\n",
       "      <td>Prey Veng</td>\n",
       "      <td>test</td>\n",
       "      <td>Peam Chor</td>\n",
       "      <td>0</td>\n",
       "      <td>1</td>\n",
       "      <td>1</td>\n",
       "      <td>1</td>\n",
       "      <td>1</td>\n",
       "      <td>3</td>\n",
       "      <td>1</td>\n",
       "      <td>1</td>\n",
       "      <td>1</td>\n",
       "      <td>1</td>\n",
       "      <td>1</td>\n",
       "      <td>2</td>\n",
       "    </tr>\n",
       "    <tr>\n",
       "      <th>196</th>\n",
       "      <td>197</td>\n",
       "      <td>1197</td>\n",
       "      <td>Express</td>\n",
       "      <td>Oddar Meanchey</td>\n",
       "      <td>test</td>\n",
       "      <td>Chong Kal</td>\n",
       "      <td>1</td>\n",
       "      <td>1</td>\n",
       "      <td>1</td>\n",
       "      <td>2</td>\n",
       "      <td>2</td>\n",
       "      <td>5</td>\n",
       "      <td>0</td>\n",
       "      <td>1</td>\n",
       "      <td>0</td>\n",
       "      <td>4</td>\n",
       "      <td>1</td>\n",
       "      <td>3</td>\n",
       "    </tr>\n",
       "    <tr>\n",
       "      <th>197</th>\n",
       "      <td>198</td>\n",
       "      <td>1198</td>\n",
       "      <td>Express</td>\n",
       "      <td>Kandal</td>\n",
       "      <td>test</td>\n",
       "      <td>Kien Svay</td>\n",
       "      <td>0</td>\n",
       "      <td>1</td>\n",
       "      <td>1</td>\n",
       "      <td>3</td>\n",
       "      <td>5</td>\n",
       "      <td>5</td>\n",
       "      <td>1</td>\n",
       "      <td>1</td>\n",
       "      <td>0</td>\n",
       "      <td>1</td>\n",
       "      <td>2</td>\n",
       "      <td>4</td>\n",
       "    </tr>\n",
       "    <tr>\n",
       "      <th>198</th>\n",
       "      <td>199</td>\n",
       "      <td>1199</td>\n",
       "      <td>Delivery</td>\n",
       "      <td>Kandal</td>\n",
       "      <td>test</td>\n",
       "      <td>Kaoh Thum</td>\n",
       "      <td>1</td>\n",
       "      <td>0</td>\n",
       "      <td>0</td>\n",
       "      <td>5</td>\n",
       "      <td>3</td>\n",
       "      <td>5</td>\n",
       "      <td>0</td>\n",
       "      <td>0</td>\n",
       "      <td>0</td>\n",
       "      <td>3</td>\n",
       "      <td>1</td>\n",
       "      <td>5</td>\n",
       "    </tr>\n",
       "  </tbody>\n",
       "</table>\n",
       "<p>199 rows × 18 columns</p>\n",
       "</div>"
      ],
      "text/plain": [
       "      No  company_id      company_business_type company_location_province  \\\n",
       "0      1        1001                   Delivery                Phnom penh   \n",
       "1      2        1002   Network service provider                Phnom penh   \n",
       "2      3        1003  Internet service provider                 Siem Reap   \n",
       "3      4        1004           security company              Kampong Thom   \n",
       "4      5        1005           security company              Kampong Cham   \n",
       "..   ...         ...                        ...                       ...   \n",
       "194  195        1195   Network service provider          Banteay Meanchey   \n",
       "195  196        1196             Computer store                 Prey Veng   \n",
       "196  197        1197                    Express            Oddar Meanchey   \n",
       "197  198        1198                    Express                    Kandal   \n",
       "198  199        1199                   Delivery                    Kandal   \n",
       "\n",
       "    business_location_text_field company_location_district  \\\n",
       "0                           test               Pursen Chey   \n",
       "1                           test              Chamkar Morn   \n",
       "2                           test                 Mean Chey   \n",
       "3                           test                 Toul Kork   \n",
       "4                           test                   Sen sok   \n",
       "..                           ...                       ...   \n",
       "194                         test                    Malai    \n",
       "195                         test                Peam Chor    \n",
       "196                         test                Chong Kal    \n",
       "197                         test                Kien Svay    \n",
       "198                         test                Kaoh Thum    \n",
       "\n",
       "     total_certificate_ict  total_permit_ict  total_license_ict  \\\n",
       "0                        0                 0                  1   \n",
       "1                        0                 0                  0   \n",
       "2                        1                 0                  1   \n",
       "3                        1                 1                  0   \n",
       "4                        0                 1                  1   \n",
       "..                     ...               ...                ...   \n",
       "194                      1                 0                  0   \n",
       "195                      0                 1                  1   \n",
       "196                      1                 1                  1   \n",
       "197                      0                 1                  1   \n",
       "198                      1                 0                  0   \n",
       "\n",
       "     total_renewal certificate_ict  total_renewal_permit_ict  \\\n",
       "0                                2                         1   \n",
       "1                                3                         3   \n",
       "2                                4                         3   \n",
       "3                                1                         2   \n",
       "4                                5                         1   \n",
       "..                             ...                       ...   \n",
       "194                              5                         4   \n",
       "195                              1                         1   \n",
       "196                              2                         2   \n",
       "197                              3                         5   \n",
       "198                              5                         3   \n",
       "\n",
       "     total_renewal_license_ict  total_certificate_post  total_permit_post  \\\n",
       "0                            1                       1                  0   \n",
       "1                            1                       0                  0   \n",
       "2                            1                       0                  1   \n",
       "3                            5                       1                  0   \n",
       "4                            3                       1                  1   \n",
       "..                         ...                     ...                ...   \n",
       "194                          4                       0                  0   \n",
       "195                          3                       1                  1   \n",
       "196                          5                       0                  1   \n",
       "197                          5                       1                  1   \n",
       "198                          5                       0                  0   \n",
       "\n",
       "     total_license_post  total_renewal_certificate_post  \\\n",
       "0                     0                               1   \n",
       "1                     0                               2   \n",
       "2                     0                               4   \n",
       "3                     1                               2   \n",
       "4                     0                               2   \n",
       "..                  ...                             ...   \n",
       "194                   1                               5   \n",
       "195                   1                               1   \n",
       "196                   0                               4   \n",
       "197                   0                               1   \n",
       "198                   0                               3   \n",
       "\n",
       "     total_renewal_permit_post  total_renewal_license_post  \n",
       "0                            1                           3  \n",
       "1                            5                           5  \n",
       "2                            5                           5  \n",
       "3                            1                           1  \n",
       "4                            5                           5  \n",
       "..                         ...                         ...  \n",
       "194                          2                           4  \n",
       "195                          1                           2  \n",
       "196                          1                           3  \n",
       "197                          2                           4  \n",
       "198                          1                           5  \n",
       "\n",
       "[199 rows x 18 columns]"
      ]
     },
     "execution_count": 35,
     "metadata": {},
     "output_type": "execute_result"
    }
   ],
   "source": [
    "#Read sheet3 \n",
    "# below data is mockup data when request start until end\n",
    "e_reg_sheet_original_field = pd.read_excel('e_registration_mockup.xlsx',sheet_name = 1)\n",
    "e_reg_sheet_original_field.info()\n",
    "e_reg_sheet_original_field"
   ]
  },
  {
   "cell_type": "code",
   "execution_count": 33,
   "id": "a826046e-5cee-4c71-9b3a-c7e823405306",
   "metadata": {},
   "outputs": [
    {
     "name": "stdout",
     "output_type": "stream",
     "text": [
      "<class 'pandas.core.frame.DataFrame'>\n",
      "RangeIndex: 65 entries, 0 to 64\n",
      "Data columns (total 11 columns):\n",
      " #   Column                    Non-Null Count  Dtype         \n",
      "---  ------                    --------------  -----         \n",
      " 0   No                        65 non-null     int64         \n",
      " 1   Date_time                 65 non-null     datetime64[ns]\n",
      " 2   Request ID                65 non-null     int64         \n",
      " 3   request type              65 non-null     object        \n",
      " 4   Request TO Dep / Gen Dep  65 non-null     object        \n",
      " 5   Issue type                65 non-null     object        \n",
      " 6   Status                    65 non-null     object        \n",
      " 7   By who?                   65 non-null     object        \n",
      " 8   Sender                    61 non-null     object        \n",
      " 9   Receiver                  61 non-null     object        \n",
      " 10  Province                  33 non-null     object        \n",
      "dtypes: datetime64[ns](1), int64(2), object(8)\n",
      "memory usage: 5.7+ KB\n"
     ]
    },
    {
     "data": {
      "text/html": [
       "<div>\n",
       "<style scoped>\n",
       "    .dataframe tbody tr th:only-of-type {\n",
       "        vertical-align: middle;\n",
       "    }\n",
       "\n",
       "    .dataframe tbody tr th {\n",
       "        vertical-align: top;\n",
       "    }\n",
       "\n",
       "    .dataframe thead th {\n",
       "        text-align: right;\n",
       "    }\n",
       "</style>\n",
       "<table border=\"1\" class=\"dataframe\">\n",
       "  <thead>\n",
       "    <tr style=\"text-align: right;\">\n",
       "      <th></th>\n",
       "      <th>No</th>\n",
       "      <th>Date_time</th>\n",
       "      <th>Request ID</th>\n",
       "      <th>request type</th>\n",
       "      <th>Request TO Dep / Gen Dep</th>\n",
       "      <th>Issue type</th>\n",
       "      <th>Status</th>\n",
       "      <th>By who?</th>\n",
       "      <th>Sender</th>\n",
       "      <th>Receiver</th>\n",
       "      <th>Province</th>\n",
       "    </tr>\n",
       "  </thead>\n",
       "  <tbody>\n",
       "    <tr>\n",
       "      <th>0</th>\n",
       "      <td>1</td>\n",
       "      <td>2022-05-01 08:07:00</td>\n",
       "      <td>1001</td>\n",
       "      <td>Certificate</td>\n",
       "      <td>ICT</td>\n",
       "      <td>New Request</td>\n",
       "      <td>Document Submited from user</td>\n",
       "      <td>User</td>\n",
       "      <td>User</td>\n",
       "      <td>receptionist</td>\n",
       "      <td>Phnom penh</td>\n",
       "    </tr>\n",
       "    <tr>\n",
       "      <th>1</th>\n",
       "      <td>2</td>\n",
       "      <td>2022-05-02 08:07:00</td>\n",
       "      <td>1001</td>\n",
       "      <td>Certificate</td>\n",
       "      <td>ICT</td>\n",
       "      <td>New Request</td>\n",
       "      <td>Document Verified</td>\n",
       "      <td>receptionist</td>\n",
       "      <td>receptionist</td>\n",
       "      <td>technical officer</td>\n",
       "      <td>Phnom penh</td>\n",
       "    </tr>\n",
       "    <tr>\n",
       "      <th>2</th>\n",
       "      <td>3</td>\n",
       "      <td>2022-05-03 08:07:00</td>\n",
       "      <td>1001</td>\n",
       "      <td>Certificate</td>\n",
       "      <td>ICT</td>\n",
       "      <td>New Request</td>\n",
       "      <td>Document Verified</td>\n",
       "      <td>Technical software officer</td>\n",
       "      <td>Technical software officer</td>\n",
       "      <td>Technical network officer</td>\n",
       "      <td>Phnom penh</td>\n",
       "    </tr>\n",
       "    <tr>\n",
       "      <th>3</th>\n",
       "      <td>4</td>\n",
       "      <td>2022-05-04 08:07:00</td>\n",
       "      <td>1001</td>\n",
       "      <td>Certificate</td>\n",
       "      <td>ICT</td>\n",
       "      <td>New Request</td>\n",
       "      <td>Document Verified</td>\n",
       "      <td>Technical network officer</td>\n",
       "      <td>Technical network officer</td>\n",
       "      <td>Technical factory officer</td>\n",
       "      <td>Phnom penh</td>\n",
       "    </tr>\n",
       "    <tr>\n",
       "      <th>4</th>\n",
       "      <td>5</td>\n",
       "      <td>2022-05-07 08:07:00</td>\n",
       "      <td>1001</td>\n",
       "      <td>Certificate</td>\n",
       "      <td>ICT</td>\n",
       "      <td>New Request</td>\n",
       "      <td>Document Verified</td>\n",
       "      <td>Director Department of software</td>\n",
       "      <td>Director Department of software</td>\n",
       "      <td>Director Department of Network</td>\n",
       "      <td>Phnom penh</td>\n",
       "    </tr>\n",
       "    <tr>\n",
       "      <th>...</th>\n",
       "      <td>...</td>\n",
       "      <td>...</td>\n",
       "      <td>...</td>\n",
       "      <td>...</td>\n",
       "      <td>...</td>\n",
       "      <td>...</td>\n",
       "      <td>...</td>\n",
       "      <td>...</td>\n",
       "      <td>...</td>\n",
       "      <td>...</td>\n",
       "      <td>...</td>\n",
       "    </tr>\n",
       "    <tr>\n",
       "      <th>60</th>\n",
       "      <td>60</td>\n",
       "      <td>2022-06-13 08:07:00</td>\n",
       "      <td>1006</td>\n",
       "      <td>Certificate</td>\n",
       "      <td>ICT</td>\n",
       "      <td>New Request</td>\n",
       "      <td>Document Verified</td>\n",
       "      <td>អគ្គ ICT</td>\n",
       "      <td>អគ្គ ICT</td>\n",
       "      <td>Under secretary of state</td>\n",
       "      <td>NaN</td>\n",
       "    </tr>\n",
       "    <tr>\n",
       "      <th>61</th>\n",
       "      <td>61</td>\n",
       "      <td>2022-06-15 08:07:00</td>\n",
       "      <td>1006</td>\n",
       "      <td>Certificate</td>\n",
       "      <td>ICT</td>\n",
       "      <td>New Request</td>\n",
       "      <td>Document Verified</td>\n",
       "      <td>Under secretary of state</td>\n",
       "      <td>Under secretary of state</td>\n",
       "      <td>រដ្ឋលេខាធិកា សូហ្វវែរ</td>\n",
       "      <td>NaN</td>\n",
       "    </tr>\n",
       "    <tr>\n",
       "      <th>62</th>\n",
       "      <td>62</td>\n",
       "      <td>2022-06-17 08:07:00</td>\n",
       "      <td>1006</td>\n",
       "      <td>Certificate</td>\n",
       "      <td>ICT</td>\n",
       "      <td>New Request</td>\n",
       "      <td>Document Verified</td>\n",
       "      <td>រដ្ឋលេខាធិកា សូហ្វវែរ</td>\n",
       "      <td>រដ្ឋលេខាធិកា សូហ្វវែរ</td>\n",
       "      <td>រដ្ឋលេខាធិកា បណ្តាញ</td>\n",
       "      <td>NaN</td>\n",
       "    </tr>\n",
       "    <tr>\n",
       "      <th>63</th>\n",
       "      <td>63</td>\n",
       "      <td>2022-06-19 08:07:00</td>\n",
       "      <td>1006</td>\n",
       "      <td>Certificate</td>\n",
       "      <td>ICT</td>\n",
       "      <td>New Request</td>\n",
       "      <td>Document Verified</td>\n",
       "      <td>រដ្ឋលេខាធិកា បណ្តាញ</td>\n",
       "      <td>រដ្ឋលេខាធិកា បណ្តាញ</td>\n",
       "      <td>Minister</td>\n",
       "      <td>NaN</td>\n",
       "    </tr>\n",
       "    <tr>\n",
       "      <th>64</th>\n",
       "      <td>63</td>\n",
       "      <td>2022-06-21 08:07:00</td>\n",
       "      <td>1006</td>\n",
       "      <td>Certificate</td>\n",
       "      <td>ICT</td>\n",
       "      <td>New Request</td>\n",
       "      <td>Approved</td>\n",
       "      <td>Minister</td>\n",
       "      <td>NaN</td>\n",
       "      <td>NaN</td>\n",
       "      <td>NaN</td>\n",
       "    </tr>\n",
       "  </tbody>\n",
       "</table>\n",
       "<p>65 rows × 11 columns</p>\n",
       "</div>"
      ],
      "text/plain": [
       "    No           Date_time  Request ID request type Request TO Dep / Gen Dep  \\\n",
       "0    1 2022-05-01 08:07:00        1001  Certificate                      ICT   \n",
       "1    2 2022-05-02 08:07:00        1001  Certificate                      ICT   \n",
       "2    3 2022-05-03 08:07:00        1001  Certificate                      ICT   \n",
       "3    4 2022-05-04 08:07:00        1001  Certificate                      ICT   \n",
       "4    5 2022-05-07 08:07:00        1001  Certificate                      ICT   \n",
       "..  ..                 ...         ...          ...                      ...   \n",
       "60  60 2022-06-13 08:07:00        1006  Certificate                      ICT   \n",
       "61  61 2022-06-15 08:07:00        1006  Certificate                      ICT   \n",
       "62  62 2022-06-17 08:07:00        1006  Certificate                      ICT   \n",
       "63  63 2022-06-19 08:07:00        1006  Certificate                      ICT   \n",
       "64  63 2022-06-21 08:07:00        1006  Certificate                      ICT   \n",
       "\n",
       "     Issue type                       Status  \\\n",
       "0   New Request  Document Submited from user   \n",
       "1   New Request            Document Verified   \n",
       "2   New Request            Document Verified   \n",
       "3   New Request            Document Verified   \n",
       "4   New Request            Document Verified   \n",
       "..          ...                          ...   \n",
       "60  New Request            Document Verified   \n",
       "61  New Request            Document Verified   \n",
       "62  New Request            Document Verified   \n",
       "63  New Request            Document Verified   \n",
       "64  New Request                     Approved   \n",
       "\n",
       "                              By who?                             Sender  \\\n",
       "0                                User                               User   \n",
       "1                        receptionist                       receptionist   \n",
       "2          Technical software officer         Technical software officer   \n",
       "3           Technical network officer          Technical network officer   \n",
       "4   Director Department of software    Director Department of software     \n",
       "..                                ...                                ...   \n",
       "60                           អគ្គ ICT                           អគ្គ ICT   \n",
       "61           Under secretary of state           Under secretary of state   \n",
       "62              រដ្ឋលេខាធិកា សូហ្វវែរ              រដ្ឋលេខាធិកា សូហ្វវែរ   \n",
       "63                រដ្ឋលេខាធិកា បណ្តាញ                រដ្ឋលេខាធិកា បណ្តាញ   \n",
       "64                           Minister                                NaN   \n",
       "\n",
       "                          Receiver    Province  \n",
       "0                     receptionist  Phnom penh  \n",
       "1                technical officer  Phnom penh  \n",
       "2        Technical network officer  Phnom penh  \n",
       "3        Technical factory officer  Phnom penh  \n",
       "4   Director Department of Network  Phnom penh  \n",
       "..                             ...         ...  \n",
       "60        Under secretary of state         NaN  \n",
       "61           រដ្ឋលេខាធិកា សូហ្វវែរ         NaN  \n",
       "62             រដ្ឋលេខាធិកា បណ្តាញ         NaN  \n",
       "63                        Minister         NaN  \n",
       "64                             NaN         NaN  \n",
       "\n",
       "[65 rows x 11 columns]"
      ]
     },
     "execution_count": 33,
     "metadata": {},
     "output_type": "execute_result"
    }
   ],
   "source": [
    "#Read sheet3 \n",
    "# below data is mockup data when request start until end\n",
    "e_reg_sheet_transaction = pd.read_excel('e_registration_mockup.xlsx',sheet_name = 3)\n",
    "e_reg_sheet_transaction.info()\n",
    "e_reg_sheet_transaction"
   ]
  },
  {
   "cell_type": "markdown",
   "id": "c760c331-f05e-4f21-bc6f-5fcbc909cbd9",
   "metadata": {},
   "source": [
    "### Read sheet3 \n",
    "# below data is mockup data when request start until end\n",
    "e_reg_sheet_approved_request = pd.read_excel('e_registration_mockup.xlsx',sheet_name = 4,usecols=\"B:K\")\n",
    "e_reg_sheet_approved_request.info()\n",
    "e_reg_sheet_approved_request"
   ]
  },
  {
   "cell_type": "markdown",
   "id": "1294075c-6fc2-41b2-8086-ff01b834f0d5",
   "metadata": {},
   "source": [
    "### Data Preparation and modeling"
   ]
  },
  {
   "cell_type": "markdown",
   "id": "ac7e9d3f-314a-47a3-b54b-1a78d95a0729",
   "metadata": {},
   "source": [
    " ### session 1 Overall business performance"
   ]
  },
  {
   "cell_type": "markdown",
   "id": "6d13f5c6-3dcf-479e-90b7-850d9adaaac9",
   "metadata": {},
   "source": [
    "All service perfomrance"
   ]
  },
  {
   "cell_type": "code",
   "execution_count": 58,
   "id": "fc7e3c8c-f6b7-4937-b0e4-d180cf04c31f",
   "metadata": {},
   "outputs": [
    {
     "data": {
      "application/vnd.plotly.v1+json": {
       "config": {
        "plotlyServerURL": "https://plot.ly"
       },
       "data": [
        {
         "domain": {
          "x": [
           0,
           1
          ],
          "y": [
           0,
           1
          ]
         },
         "hole": 0.4,
         "hovertemplate": "request_dep=%{label}<br>Total_request_by_dep=%{value}<extra></extra>",
         "labels": [
          "ICT",
          "POST"
         ],
         "legendgroup": "",
         "name": "",
         "showlegend": true,
         "type": "pie",
         "values": [
          498,
          501
         ]
        }
       ],
       "layout": {
        "autosize": true,
        "legend": {
         "tracegroupgap": 0
        },
        "margin": {
         "t": 60
        },
        "template": {
         "data": {
          "bar": [
           {
            "error_x": {
             "color": "#2a3f5f"
            },
            "error_y": {
             "color": "#2a3f5f"
            },
            "marker": {
             "line": {
              "color": "#E5ECF6",
              "width": 0.5
             },
             "pattern": {
              "fillmode": "overlay",
              "size": 10,
              "solidity": 0.2
             }
            },
            "type": "bar"
           }
          ],
          "barpolar": [
           {
            "marker": {
             "line": {
              "color": "#E5ECF6",
              "width": 0.5
             },
             "pattern": {
              "fillmode": "overlay",
              "size": 10,
              "solidity": 0.2
             }
            },
            "type": "barpolar"
           }
          ],
          "carpet": [
           {
            "aaxis": {
             "endlinecolor": "#2a3f5f",
             "gridcolor": "white",
             "linecolor": "white",
             "minorgridcolor": "white",
             "startlinecolor": "#2a3f5f"
            },
            "baxis": {
             "endlinecolor": "#2a3f5f",
             "gridcolor": "white",
             "linecolor": "white",
             "minorgridcolor": "white",
             "startlinecolor": "#2a3f5f"
            },
            "type": "carpet"
           }
          ],
          "choropleth": [
           {
            "colorbar": {
             "outlinewidth": 0,
             "ticks": ""
            },
            "type": "choropleth"
           }
          ],
          "contour": [
           {
            "colorbar": {
             "outlinewidth": 0,
             "ticks": ""
            },
            "colorscale": [
             [
              0,
              "#0d0887"
             ],
             [
              0.1111111111111111,
              "#46039f"
             ],
             [
              0.2222222222222222,
              "#7201a8"
             ],
             [
              0.3333333333333333,
              "#9c179e"
             ],
             [
              0.4444444444444444,
              "#bd3786"
             ],
             [
              0.5555555555555556,
              "#d8576b"
             ],
             [
              0.6666666666666666,
              "#ed7953"
             ],
             [
              0.7777777777777778,
              "#fb9f3a"
             ],
             [
              0.8888888888888888,
              "#fdca26"
             ],
             [
              1,
              "#f0f921"
             ]
            ],
            "type": "contour"
           }
          ],
          "contourcarpet": [
           {
            "colorbar": {
             "outlinewidth": 0,
             "ticks": ""
            },
            "type": "contourcarpet"
           }
          ],
          "heatmap": [
           {
            "colorbar": {
             "outlinewidth": 0,
             "ticks": ""
            },
            "colorscale": [
             [
              0,
              "#0d0887"
             ],
             [
              0.1111111111111111,
              "#46039f"
             ],
             [
              0.2222222222222222,
              "#7201a8"
             ],
             [
              0.3333333333333333,
              "#9c179e"
             ],
             [
              0.4444444444444444,
              "#bd3786"
             ],
             [
              0.5555555555555556,
              "#d8576b"
             ],
             [
              0.6666666666666666,
              "#ed7953"
             ],
             [
              0.7777777777777778,
              "#fb9f3a"
             ],
             [
              0.8888888888888888,
              "#fdca26"
             ],
             [
              1,
              "#f0f921"
             ]
            ],
            "type": "heatmap"
           }
          ],
          "heatmapgl": [
           {
            "colorbar": {
             "outlinewidth": 0,
             "ticks": ""
            },
            "colorscale": [
             [
              0,
              "#0d0887"
             ],
             [
              0.1111111111111111,
              "#46039f"
             ],
             [
              0.2222222222222222,
              "#7201a8"
             ],
             [
              0.3333333333333333,
              "#9c179e"
             ],
             [
              0.4444444444444444,
              "#bd3786"
             ],
             [
              0.5555555555555556,
              "#d8576b"
             ],
             [
              0.6666666666666666,
              "#ed7953"
             ],
             [
              0.7777777777777778,
              "#fb9f3a"
             ],
             [
              0.8888888888888888,
              "#fdca26"
             ],
             [
              1,
              "#f0f921"
             ]
            ],
            "type": "heatmapgl"
           }
          ],
          "histogram": [
           {
            "marker": {
             "pattern": {
              "fillmode": "overlay",
              "size": 10,
              "solidity": 0.2
             }
            },
            "type": "histogram"
           }
          ],
          "histogram2d": [
           {
            "colorbar": {
             "outlinewidth": 0,
             "ticks": ""
            },
            "colorscale": [
             [
              0,
              "#0d0887"
             ],
             [
              0.1111111111111111,
              "#46039f"
             ],
             [
              0.2222222222222222,
              "#7201a8"
             ],
             [
              0.3333333333333333,
              "#9c179e"
             ],
             [
              0.4444444444444444,
              "#bd3786"
             ],
             [
              0.5555555555555556,
              "#d8576b"
             ],
             [
              0.6666666666666666,
              "#ed7953"
             ],
             [
              0.7777777777777778,
              "#fb9f3a"
             ],
             [
              0.8888888888888888,
              "#fdca26"
             ],
             [
              1,
              "#f0f921"
             ]
            ],
            "type": "histogram2d"
           }
          ],
          "histogram2dcontour": [
           {
            "colorbar": {
             "outlinewidth": 0,
             "ticks": ""
            },
            "colorscale": [
             [
              0,
              "#0d0887"
             ],
             [
              0.1111111111111111,
              "#46039f"
             ],
             [
              0.2222222222222222,
              "#7201a8"
             ],
             [
              0.3333333333333333,
              "#9c179e"
             ],
             [
              0.4444444444444444,
              "#bd3786"
             ],
             [
              0.5555555555555556,
              "#d8576b"
             ],
             [
              0.6666666666666666,
              "#ed7953"
             ],
             [
              0.7777777777777778,
              "#fb9f3a"
             ],
             [
              0.8888888888888888,
              "#fdca26"
             ],
             [
              1,
              "#f0f921"
             ]
            ],
            "type": "histogram2dcontour"
           }
          ],
          "mesh3d": [
           {
            "colorbar": {
             "outlinewidth": 0,
             "ticks": ""
            },
            "type": "mesh3d"
           }
          ],
          "parcoords": [
           {
            "line": {
             "colorbar": {
              "outlinewidth": 0,
              "ticks": ""
             }
            },
            "type": "parcoords"
           }
          ],
          "pie": [
           {
            "automargin": true,
            "type": "pie"
           }
          ],
          "scatter": [
           {
            "fillpattern": {
             "fillmode": "overlay",
             "size": 10,
             "solidity": 0.2
            },
            "type": "scatter"
           }
          ],
          "scatter3d": [
           {
            "line": {
             "colorbar": {
              "outlinewidth": 0,
              "ticks": ""
             }
            },
            "marker": {
             "colorbar": {
              "outlinewidth": 0,
              "ticks": ""
             }
            },
            "type": "scatter3d"
           }
          ],
          "scattercarpet": [
           {
            "marker": {
             "colorbar": {
              "outlinewidth": 0,
              "ticks": ""
             }
            },
            "type": "scattercarpet"
           }
          ],
          "scattergeo": [
           {
            "marker": {
             "colorbar": {
              "outlinewidth": 0,
              "ticks": ""
             }
            },
            "type": "scattergeo"
           }
          ],
          "scattergl": [
           {
            "marker": {
             "colorbar": {
              "outlinewidth": 0,
              "ticks": ""
             }
            },
            "type": "scattergl"
           }
          ],
          "scattermapbox": [
           {
            "marker": {
             "colorbar": {
              "outlinewidth": 0,
              "ticks": ""
             }
            },
            "type": "scattermapbox"
           }
          ],
          "scatterpolar": [
           {
            "marker": {
             "colorbar": {
              "outlinewidth": 0,
              "ticks": ""
             }
            },
            "type": "scatterpolar"
           }
          ],
          "scatterpolargl": [
           {
            "marker": {
             "colorbar": {
              "outlinewidth": 0,
              "ticks": ""
             }
            },
            "type": "scatterpolargl"
           }
          ],
          "scatterternary": [
           {
            "marker": {
             "colorbar": {
              "outlinewidth": 0,
              "ticks": ""
             }
            },
            "type": "scatterternary"
           }
          ],
          "surface": [
           {
            "colorbar": {
             "outlinewidth": 0,
             "ticks": ""
            },
            "colorscale": [
             [
              0,
              "#0d0887"
             ],
             [
              0.1111111111111111,
              "#46039f"
             ],
             [
              0.2222222222222222,
              "#7201a8"
             ],
             [
              0.3333333333333333,
              "#9c179e"
             ],
             [
              0.4444444444444444,
              "#bd3786"
             ],
             [
              0.5555555555555556,
              "#d8576b"
             ],
             [
              0.6666666666666666,
              "#ed7953"
             ],
             [
              0.7777777777777778,
              "#fb9f3a"
             ],
             [
              0.8888888888888888,
              "#fdca26"
             ],
             [
              1,
              "#f0f921"
             ]
            ],
            "type": "surface"
           }
          ],
          "table": [
           {
            "cells": {
             "fill": {
              "color": "#EBF0F8"
             },
             "line": {
              "color": "white"
             }
            },
            "header": {
             "fill": {
              "color": "#C8D4E3"
             },
             "line": {
              "color": "white"
             }
            },
            "type": "table"
           }
          ]
         },
         "layout": {
          "annotationdefaults": {
           "arrowcolor": "#2a3f5f",
           "arrowhead": 0,
           "arrowwidth": 1
          },
          "autotypenumbers": "strict",
          "coloraxis": {
           "colorbar": {
            "outlinewidth": 0,
            "ticks": ""
           }
          },
          "colorscale": {
           "diverging": [
            [
             0,
             "#8e0152"
            ],
            [
             0.1,
             "#c51b7d"
            ],
            [
             0.2,
             "#de77ae"
            ],
            [
             0.3,
             "#f1b6da"
            ],
            [
             0.4,
             "#fde0ef"
            ],
            [
             0.5,
             "#f7f7f7"
            ],
            [
             0.6,
             "#e6f5d0"
            ],
            [
             0.7,
             "#b8e186"
            ],
            [
             0.8,
             "#7fbc41"
            ],
            [
             0.9,
             "#4d9221"
            ],
            [
             1,
             "#276419"
            ]
           ],
           "sequential": [
            [
             0,
             "#0d0887"
            ],
            [
             0.1111111111111111,
             "#46039f"
            ],
            [
             0.2222222222222222,
             "#7201a8"
            ],
            [
             0.3333333333333333,
             "#9c179e"
            ],
            [
             0.4444444444444444,
             "#bd3786"
            ],
            [
             0.5555555555555556,
             "#d8576b"
            ],
            [
             0.6666666666666666,
             "#ed7953"
            ],
            [
             0.7777777777777778,
             "#fb9f3a"
            ],
            [
             0.8888888888888888,
             "#fdca26"
            ],
            [
             1,
             "#f0f921"
            ]
           ],
           "sequentialminus": [
            [
             0,
             "#0d0887"
            ],
            [
             0.1111111111111111,
             "#46039f"
            ],
            [
             0.2222222222222222,
             "#7201a8"
            ],
            [
             0.3333333333333333,
             "#9c179e"
            ],
            [
             0.4444444444444444,
             "#bd3786"
            ],
            [
             0.5555555555555556,
             "#d8576b"
            ],
            [
             0.6666666666666666,
             "#ed7953"
            ],
            [
             0.7777777777777778,
             "#fb9f3a"
            ],
            [
             0.8888888888888888,
             "#fdca26"
            ],
            [
             1,
             "#f0f921"
            ]
           ]
          },
          "colorway": [
           "#636efa",
           "#EF553B",
           "#00cc96",
           "#ab63fa",
           "#FFA15A",
           "#19d3f3",
           "#FF6692",
           "#B6E880",
           "#FF97FF",
           "#FECB52"
          ],
          "font": {
           "color": "#2a3f5f"
          },
          "geo": {
           "bgcolor": "white",
           "lakecolor": "white",
           "landcolor": "#E5ECF6",
           "showlakes": true,
           "showland": true,
           "subunitcolor": "white"
          },
          "hoverlabel": {
           "align": "left"
          },
          "hovermode": "closest",
          "mapbox": {
           "style": "light"
          },
          "paper_bgcolor": "white",
          "plot_bgcolor": "#E5ECF6",
          "polar": {
           "angularaxis": {
            "gridcolor": "white",
            "linecolor": "white",
            "ticks": ""
           },
           "bgcolor": "#E5ECF6",
           "radialaxis": {
            "gridcolor": "white",
            "linecolor": "white",
            "ticks": ""
           }
          },
          "scene": {
           "xaxis": {
            "backgroundcolor": "#E5ECF6",
            "gridcolor": "white",
            "gridwidth": 2,
            "linecolor": "white",
            "showbackground": true,
            "ticks": "",
            "zerolinecolor": "white"
           },
           "yaxis": {
            "backgroundcolor": "#E5ECF6",
            "gridcolor": "white",
            "gridwidth": 2,
            "linecolor": "white",
            "showbackground": true,
            "ticks": "",
            "zerolinecolor": "white"
           },
           "zaxis": {
            "backgroundcolor": "#E5ECF6",
            "gridcolor": "white",
            "gridwidth": 2,
            "linecolor": "white",
            "showbackground": true,
            "ticks": "",
            "zerolinecolor": "white"
           }
          },
          "shapedefaults": {
           "line": {
            "color": "#2a3f5f"
           }
          },
          "ternary": {
           "aaxis": {
            "gridcolor": "white",
            "linecolor": "white",
            "ticks": ""
           },
           "baxis": {
            "gridcolor": "white",
            "linecolor": "white",
            "ticks": ""
           },
           "bgcolor": "#E5ECF6",
           "caxis": {
            "gridcolor": "white",
            "linecolor": "white",
            "ticks": ""
           }
          },
          "title": {
           "x": 0.05
          },
          "xaxis": {
           "automargin": true,
           "gridcolor": "white",
           "linecolor": "white",
           "ticks": "",
           "title": {
            "standoff": 15
           },
           "zerolinecolor": "white",
           "zerolinewidth": 2
          },
          "yaxis": {
           "automargin": true,
           "gridcolor": "white",
           "linecolor": "white",
           "ticks": "",
           "title": {
            "standoff": 15
           },
           "zerolinecolor": "white",
           "zerolinewidth": 2
          }
         }
        }
       }
      },
      "image/png": "[encoded data removed]",
      "text/html": [
       "<div>                            <div id=\"a7f57a85-cd5a-41b5-b16b-2ff820253fb3\" class=\"plotly-graph-div\" style=\"height:525px; width:100%;\"></div>            <script type=\"text/javascript\">                require([\"plotly\"], function(Plotly) {                    window.PLOTLYENV=window.PLOTLYENV || {};                                    if (document.getElementById(\"a7f57a85-cd5a-41b5-b16b-2ff820253fb3\")) {                    Plotly.newPlot(                        \"a7f57a85-cd5a-41b5-b16b-2ff820253fb3\",                        [{\"domain\":{\"x\":[0.0,1.0],\"y\":[0.0,1.0]},\"hole\":0.4,\"hovertemplate\":\"request_dep=%{label}<br>Total_request_by_dep=%{value}<extra></extra>\",\"labels\":[\"ICT\",\"POST\"],\"legendgroup\":\"\",\"name\":\"\",\"showlegend\":true,\"values\":[498,501],\"type\":\"pie\"}],                        {\"template\":{\"data\":{\"histogram2dcontour\":[{\"type\":\"histogram2dcontour\",\"colorbar\":{\"outlinewidth\":0,\"ticks\":\"\"},\"colorscale\":[[0.0,\"#0d0887\"],[0.1111111111111111,\"#46039f\"],[0.2222222222222222,\"#7201a8\"],[0.3333333333333333,\"#9c179e\"],[0.4444444444444444,\"#bd3786\"],[0.5555555555555556,\"#d8576b\"],[0.6666666666666666,\"#ed7953\"],[0.7777777777777778,\"#fb9f3a\"],[0.8888888888888888,\"#fdca26\"],[1.0,\"#f0f921\"]]}],\"choropleth\":[{\"type\":\"choropleth\",\"colorbar\":{\"outlinewidth\":0,\"ticks\":\"\"}}],\"histogram2d\":[{\"type\":\"histogram2d\",\"colorbar\":{\"outlinewidth\":0,\"ticks\":\"\"},\"colorscale\":[[0.0,\"#0d0887\"],[0.1111111111111111,\"#46039f\"],[0.2222222222222222,\"#7201a8\"],[0.3333333333333333,\"#9c179e\"],[0.4444444444444444,\"#bd3786\"],[0.5555555555555556,\"#d8576b\"],[0.6666666666666666,\"#ed7953\"],[0.7777777777777778,\"#fb9f3a\"],[0.8888888888888888,\"#fdca26\"],[1.0,\"#f0f921\"]]}],\"heatmap\":[{\"type\":\"heatmap\",\"colorbar\":{\"outlinewidth\":0,\"ticks\":\"\"},\"colorscale\":[[0.0,\"#0d0887\"],[0.1111111111111111,\"#46039f\"],[0.2222222222222222,\"#7201a8\"],[0.3333333333333333,\"#9c179e\"],[0.4444444444444444,\"#bd3786\"],[0.5555555555555556,\"#d8576b\"],[0.6666666666666666,\"#ed7953\"],[0.7777777777777778,\"#fb9f3a\"],[0.8888888888888888,\"#fdca26\"],[1.0,\"#f0f921\"]]}],\"heatmapgl\":[{\"type\":\"heatmapgl\",\"colorbar\":{\"outlinewidth\":0,\"ticks\":\"\"},\"colorscale\":[[0.0,\"#0d0887\"],[0.1111111111111111,\"#46039f\"],[0.2222222222222222,\"#7201a8\"],[0.3333333333333333,\"#9c179e\"],[0.4444444444444444,\"#bd3786\"],[0.5555555555555556,\"#d8576b\"],[0.6666666666666666,\"#ed7953\"],[0.7777777777777778,\"#fb9f3a\"],[0.8888888888888888,\"#fdca26\"],[1.0,\"#f0f921\"]]}],\"contourcarpet\":[{\"type\":\"contourcarpet\",\"colorbar\":{\"outlinewidth\":0,\"ticks\":\"\"}}],\"contour\":[{\"type\":\"contour\",\"colorbar\":{\"outlinewidth\":0,\"ticks\":\"\"},\"colorscale\":[[0.0,\"#0d0887\"],[0.1111111111111111,\"#46039f\"],[0.2222222222222222,\"#7201a8\"],[0.3333333333333333,\"#9c179e\"],[0.4444444444444444,\"#bd3786\"],[0.5555555555555556,\"#d8576b\"],[0.6666666666666666,\"#ed7953\"],[0.7777777777777778,\"#fb9f3a\"],[0.8888888888888888,\"#fdca26\"],[1.0,\"#f0f921\"]]}],\"surface\":[{\"type\":\"surface\",\"colorbar\":{\"outlinewidth\":0,\"ticks\":\"\"},\"colorscale\":[[0.0,\"#0d0887\"],[0.1111111111111111,\"#46039f\"],[0.2222222222222222,\"#7201a8\"],[0.3333333333333333,\"#9c179e\"],[0.4444444444444444,\"#bd3786\"],[0.5555555555555556,\"#d8576b\"],[0.6666666666666666,\"#ed7953\"],[0.7777777777777778,\"#fb9f3a\"],[0.8888888888888888,\"#fdca26\"],[1.0,\"#f0f921\"]]}],\"mesh3d\":[{\"type\":\"mesh3d\",\"colorbar\":{\"outlinewidth\":0,\"ticks\":\"\"}}],\"scatter\":[{\"fillpattern\":{\"fillmode\":\"overlay\",\"size\":10,\"solidity\":0.2},\"type\":\"scatter\"}],\"parcoords\":[{\"type\":\"parcoords\",\"line\":{\"colorbar\":{\"outlinewidth\":0,\"ticks\":\"\"}}}],\"scatterpolargl\":[{\"type\":\"scatterpolargl\",\"marker\":{\"colorbar\":{\"outlinewidth\":0,\"ticks\":\"\"}}}],\"bar\":[{\"error_x\":{\"color\":\"#2a3f5f\"},\"error_y\":{\"color\":\"#2a3f5f\"},\"marker\":{\"line\":{\"color\":\"#E5ECF6\",\"width\":0.5},\"pattern\":{\"fillmode\":\"overlay\",\"size\":10,\"solidity\":0.2}},\"type\":\"bar\"}],\"scattergeo\":[{\"type\":\"scattergeo\",\"marker\":{\"colorbar\":{\"outlinewidth\":0,\"ticks\":\"\"}}}],\"scatterpolar\":[{\"type\":\"scatterpolar\",\"marker\":{\"colorbar\":{\"outlinewidth\":0,\"ticks\":\"\"}}}],\"histogram\":[{\"marker\":{\"pattern\":{\"fillmode\":\"overlay\",\"size\":10,\"solidity\":0.2}},\"type\":\"histogram\"}],\"scattergl\":[{\"type\":\"scattergl\",\"marker\":{\"colorbar\":{\"outlinewidth\":0,\"ticks\":\"\"}}}],\"scatter3d\":[{\"type\":\"scatter3d\",\"line\":{\"colorbar\":{\"outlinewidth\":0,\"ticks\":\"\"}},\"marker\":{\"colorbar\":{\"outlinewidth\":0,\"ticks\":\"\"}}}],\"scattermapbox\":[{\"type\":\"scattermapbox\",\"marker\":{\"colorbar\":{\"outlinewidth\":0,\"ticks\":\"\"}}}],\"scatterternary\":[{\"type\":\"scatterternary\",\"marker\":{\"colorbar\":{\"outlinewidth\":0,\"ticks\":\"\"}}}],\"scattercarpet\":[{\"type\":\"scattercarpet\",\"marker\":{\"colorbar\":{\"outlinewidth\":0,\"ticks\":\"\"}}}],\"carpet\":[{\"aaxis\":{\"endlinecolor\":\"#2a3f5f\",\"gridcolor\":\"white\",\"linecolor\":\"white\",\"minorgridcolor\":\"white\",\"startlinecolor\":\"#2a3f5f\"},\"baxis\":{\"endlinecolor\":\"#2a3f5f\",\"gridcolor\":\"white\",\"linecolor\":\"white\",\"minorgridcolor\":\"white\",\"startlinecolor\":\"#2a3f5f\"},\"type\":\"carpet\"}],\"table\":[{\"cells\":{\"fill\":{\"color\":\"#EBF0F8\"},\"line\":{\"color\":\"white\"}},\"header\":{\"fill\":{\"color\":\"#C8D4E3\"},\"line\":{\"color\":\"white\"}},\"type\":\"table\"}],\"barpolar\":[{\"marker\":{\"line\":{\"color\":\"#E5ECF6\",\"width\":0.5},\"pattern\":{\"fillmode\":\"overlay\",\"size\":10,\"solidity\":0.2}},\"type\":\"barpolar\"}],\"pie\":[{\"automargin\":true,\"type\":\"pie\"}]},\"layout\":{\"autotypenumbers\":\"strict\",\"colorway\":[\"#636efa\",\"#EF553B\",\"#00cc96\",\"#ab63fa\",\"#FFA15A\",\"#19d3f3\",\"#FF6692\",\"#B6E880\",\"#FF97FF\",\"#FECB52\"],\"font\":{\"color\":\"#2a3f5f\"},\"hovermode\":\"closest\",\"hoverlabel\":{\"align\":\"left\"},\"paper_bgcolor\":\"white\",\"plot_bgcolor\":\"#E5ECF6\",\"polar\":{\"bgcolor\":\"#E5ECF6\",\"angularaxis\":{\"gridcolor\":\"white\",\"linecolor\":\"white\",\"ticks\":\"\"},\"radialaxis\":{\"gridcolor\":\"white\",\"linecolor\":\"white\",\"ticks\":\"\"}},\"ternary\":{\"bgcolor\":\"#E5ECF6\",\"aaxis\":{\"gridcolor\":\"white\",\"linecolor\":\"white\",\"ticks\":\"\"},\"baxis\":{\"gridcolor\":\"white\",\"linecolor\":\"white\",\"ticks\":\"\"},\"caxis\":{\"gridcolor\":\"white\",\"linecolor\":\"white\",\"ticks\":\"\"}},\"coloraxis\":{\"colorbar\":{\"outlinewidth\":0,\"ticks\":\"\"}},\"colorscale\":{\"sequential\":[[0.0,\"#0d0887\"],[0.1111111111111111,\"#46039f\"],[0.2222222222222222,\"#7201a8\"],[0.3333333333333333,\"#9c179e\"],[0.4444444444444444,\"#bd3786\"],[0.5555555555555556,\"#d8576b\"],[0.6666666666666666,\"#ed7953\"],[0.7777777777777778,\"#fb9f3a\"],[0.8888888888888888,\"#fdca26\"],[1.0,\"#f0f921\"]],\"sequentialminus\":[[0.0,\"#0d0887\"],[0.1111111111111111,\"#46039f\"],[0.2222222222222222,\"#7201a8\"],[0.3333333333333333,\"#9c179e\"],[0.4444444444444444,\"#bd3786\"],[0.5555555555555556,\"#d8576b\"],[0.6666666666666666,\"#ed7953\"],[0.7777777777777778,\"#fb9f3a\"],[0.8888888888888888,\"#fdca26\"],[1.0,\"#f0f921\"]],\"diverging\":[[0,\"#8e0152\"],[0.1,\"#c51b7d\"],[0.2,\"#de77ae\"],[0.3,\"#f1b6da\"],[0.4,\"#fde0ef\"],[0.5,\"#f7f7f7\"],[0.6,\"#e6f5d0\"],[0.7,\"#b8e186\"],[0.8,\"#7fbc41\"],[0.9,\"#4d9221\"],[1,\"#276419\"]]},\"xaxis\":{\"gridcolor\":\"white\",\"linecolor\":\"white\",\"ticks\":\"\",\"title\":{\"standoff\":15},\"zerolinecolor\":\"white\",\"automargin\":true,\"zerolinewidth\":2},\"yaxis\":{\"gridcolor\":\"white\",\"linecolor\":\"white\",\"ticks\":\"\",\"title\":{\"standoff\":15},\"zerolinecolor\":\"white\",\"automargin\":true,\"zerolinewidth\":2},\"scene\":{\"xaxis\":{\"backgroundcolor\":\"#E5ECF6\",\"gridcolor\":\"white\",\"linecolor\":\"white\",\"showbackground\":true,\"ticks\":\"\",\"zerolinecolor\":\"white\",\"gridwidth\":2},\"yaxis\":{\"backgroundcolor\":\"#E5ECF6\",\"gridcolor\":\"white\",\"linecolor\":\"white\",\"showbackground\":true,\"ticks\":\"\",\"zerolinecolor\":\"white\",\"gridwidth\":2},\"zaxis\":{\"backgroundcolor\":\"#E5ECF6\",\"gridcolor\":\"white\",\"linecolor\":\"white\",\"showbackground\":true,\"ticks\":\"\",\"zerolinecolor\":\"white\",\"gridwidth\":2}},\"shapedefaults\":{\"line\":{\"color\":\"#2a3f5f\"}},\"annotationdefaults\":{\"arrowcolor\":\"#2a3f5f\",\"arrowhead\":0,\"arrowwidth\":1},\"geo\":{\"bgcolor\":\"white\",\"landcolor\":\"#E5ECF6\",\"subunitcolor\":\"white\",\"showland\":true,\"showlakes\":true,\"lakecolor\":\"white\"},\"title\":{\"x\":0.05},\"mapbox\":{\"style\":\"light\"}}},\"legend\":{\"tracegroupgap\":0},\"margin\":{\"t\":60}},                        {\"responsive\": true}                    ).then(function(){\n",
       "                            \n",
       "var gd = document.getElementById('a7f57a85-cd5a-41b5-b16b-2ff820253fb3');\n",
       "var x = new MutationObserver(function (mutations, observer) {{\n",
       "        var display = window.getComputedStyle(gd).display;\n",
       "        if (!display || display === 'none') {{\n",
       "            console.log([gd, 'removed!']);\n",
       "            Plotly.purge(gd);\n",
       "            observer.disconnect();\n",
       "        }}\n",
       "}});\n",
       "\n",
       "// Listen for the removal of the full notebook cells\n",
       "var notebookContainer = gd.closest('#notebook-container');\n",
       "if (notebookContainer) {{\n",
       "    x.observe(notebookContainer, {childList: true});\n",
       "}}\n",
       "\n",
       "// Listen for the clearing of the current output cell\n",
       "var outputEl = gd.closest('.output');\n",
       "if (outputEl) {{\n",
       "    x.observe(outputEl, {childList: true});\n",
       "}}\n",
       "\n",
       "                        })                };                });            </script>        </div>"
      ]
     },
     "metadata": {},
     "output_type": "display_data"
    }
   ],
   "source": [
    "#reshape data\n",
    "import plotly.express as px\n",
    "fig1 = e_reg_sheet_approved_request.groupby(['request_dep'])['request_type'].count().reset_index(name='Total_request_by_dep')\n",
    "fig1 = px.pie(fig1,names='request_dep',values = 'Total_request_by_dep',hole = .4)\n",
    "fig1.show()"
   ]
  }
 ],
 "metadata": {
  "kernelspec": {
   "display_name": "Python 3 (ipykernel)",
   "language": "python",
   "name": "python3"
  },
  "language_info": {
   "codemirror_mode": {
    "name": "ipython",
    "version": 3
   },
   "file_extension": ".py",
   "mimetype": "text/x-python",
   "name": "python",
   "nbconvert_exporter": "python",
   "pygments_lexer": "ipython3",
   "version": "3.10.4"
  }
 },
 "nbformat": 4,
 "nbformat_minor": 5
}
